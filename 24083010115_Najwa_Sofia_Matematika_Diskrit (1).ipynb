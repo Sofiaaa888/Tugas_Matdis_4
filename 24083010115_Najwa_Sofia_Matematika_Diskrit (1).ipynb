{
  "nbformat": 4,
  "nbformat_minor": 0,
  "metadata": {
    "colab": {
      "provenance": []
    },
    "kernelspec": {
      "name": "python3",
      "display_name": "Python 3"
    },
    "language_info": {
      "name": "python"
    }
  },
  "cells": [
    {
      "cell_type": "markdown",
      "source": [
        "Memasukan library"
      ],
      "metadata": {
        "id": "Wodwu2FFstHx"
      }
    },
    {
      "cell_type": "code",
      "source": [
        "import pandas as pd\n",
        "import numpy as np\n",
        "from sklearn.metrics.pairwise import cosine_similarity"
      ],
      "metadata": {
        "id": "HgLHxJv-srb8"
      },
      "execution_count": 6,
      "outputs": []
    },
    {
      "cell_type": "markdown",
      "source": [
        " Baca file CSV dengan delimiter"
      ],
      "metadata": {
        "id": "06BDPdvKs0DN"
      }
    },
    {
      "cell_type": "code",
      "source": [
        "df = pd.read_csv(\"matdis.csv\", sep=\";\")\n",
        "\n",
        "#Kemudian Rename kolom biar lebih ringkas\n",
        "df = df.rename(columns={\n",
        "    'ADIL DAN AMANAH': 'A',\n",
        "    'SUKA MEMBANTU': 'B',\n",
        "    'NYAMBUNG KALAU NGOROL': 'C',\n",
        "    'ASYIK DAN MENARIK': 'D'})"
      ],
      "metadata": {
        "id": "6nZDqyWBszWs"
      },
      "execution_count": 7,
      "outputs": []
    },
    {
      "cell_type": "markdown",
      "source": [
        "Karena di data ada nilai kosong (NaN) → Python tidak bisa langsung dipakai untuk perhitungan matematis.Sehingga df.fillna(0) mengganti semua NaN jadi 0.Tujuannya supaya tidak error waktu dihitung korelasi, similarity, dsb."
      ],
      "metadata": {
        "id": "nupcsDfSzzm8"
      }
    },
    {
      "cell_type": "code",
      "source": [
        "#Bersihkan data NaN (kosong)\n",
        "df = df.fillna(0)\n",
        "#Ambil nilai A–D sebagai matriks\n",
        "nilai = df[['A','B','C','D']].to_numpy()"
      ],
      "metadata": {
        "id": "0g1S9Y4Ts7VG"
      },
      "execution_count": 8,
      "outputs": []
    },
    {
      "cell_type": "code",
      "source": [
        "#Matriks Kovarian & Korelasi\n",
        "cov_mat = np.cov(nilai, rowvar=False, ddof=1)\n",
        "corr_mat = np.corrcoef(nilai, rowvar=False)\n",
        "\n",
        "print(\"=== Matriks Kovarian ===\")\n",
        "print(cov_mat)\n",
        "\n",
        "print(\"\\n=== Matriks Korelasi ===\")\n",
        "print(corr_mat)"
      ],
      "metadata": {
        "colab": {
          "base_uri": "https://localhost:8080/"
        },
        "id": "A4I6YcF50qJ7",
        "outputId": "b29a5793-ee99-45a2-f598-a05cb7a5c749"
      },
      "execution_count": 9,
      "outputs": [
        {
          "output_type": "stream",
          "name": "stdout",
          "text": [
            "=== Matriks Kovarian ===\n",
            "[[0.00765557 0.00789801 0.00772034 0.00768563]\n",
            " [0.00789801 0.00836052 0.00803267 0.00800823]\n",
            " [0.00772034 0.00803267 0.0080655  0.0078506 ]\n",
            " [0.00768563 0.00800823 0.0078506  0.00787601]]\n",
            "\n",
            "=== Matriks Korelasi ===\n",
            "[[1.         0.98721559 0.98249809 0.98977746]\n",
            " [0.98721559 1.         0.97819987 0.9868849 ]\n",
            " [0.98249809 0.97819987 1.         0.98499445]\n",
            " [0.98977746 0.9868849  0.98499445 1.        ]]\n"
          ]
        }
      ]
    },
    {
      "cell_type": "markdown",
      "source": [
        "Hasilnya menunjukkan bahwa penyebaran nilai antar aspek cukup seragam dan semua aspek penilaian memiliki korelasi yang sangat kuat di atas 0,97, yang berarti mahasiswa yang mendapat nilai tinggi pada satu aspek cenderung juga tinggi pada aspek lainnya, jadi penilaian antar aspek bersifat konsisten.\n"
      ],
      "metadata": {
        "id": "kd4By1Co1a9K"
      }
    },
    {
      "cell_type": "code",
      "source": [
        "#Cosine Similarity antar siswa\n",
        "cosine_sim = cosine_similarity(nilai)\n",
        "cosine_df = pd.DataFrame(\n",
        "    cosine_sim,\n",
        "    index=df['NAMA'],\n",
        "    columns=df['NAMA']\n",
        ")\n",
        "print(\"\\n=== Cosine Similarity antar siswa ===\")\n",
        "print(cosine_df)"
      ],
      "metadata": {
        "colab": {
          "base_uri": "https://localhost:8080/"
        },
        "id": "xzwb7IFR0_DK",
        "outputId": "851824d4-8329-4964-931f-23414f84f69c"
      },
      "execution_count": null,
      "outputs": [
        {
          "output_type": "stream",
          "name": "stdout",
          "text": [
            "\n",
            "=== Cosine Similarity antar siswa ===\n",
            "NAMA                     MADINA HEDY ALIFANTI  MARIA DWI KURNIASIH  \\\n",
            "NAMA                                                                 \n",
            "MADINA HEDY ALIFANTI                 1.000000             0.993631   \n",
            "MARIA DWI KURNIASIH                  0.993631             1.000000   \n",
            "ADINDA PUTRI RACHMAWATI              0.977117             0.973243   \n",
            "AQUINA SYABITA                       0.997386             0.986099   \n",
            "VARID PUTRA PRATAMA                  0.994175             0.995041   \n",
            "...                                       ...                  ...   \n",
            "0                                    0.000000             0.000000   \n",
            "0                                    0.000000             0.000000   \n",
            "0                                    0.000000             0.000000   \n",
            "0                                    0.000000             0.000000   \n",
            "0                                    0.000000             0.000000   \n",
            "\n",
            "NAMA                     ADINDA PUTRI RACHMAWATI  AQUINA SYABITA  \\\n",
            "NAMA                                                               \n",
            "MADINA HEDY ALIFANTI                    0.977117        0.997386   \n",
            "MARIA DWI KURNIASIH                     0.973243        0.986099   \n",
            "ADINDA PUTRI RACHMAWATI                 1.000000        0.971489   \n",
            "AQUINA SYABITA                          0.971489        1.000000   \n",
            "VARID PUTRA PRATAMA                     0.988439        0.990581   \n",
            "...                                          ...             ...   \n",
            "0                                       0.000000        0.000000   \n",
            "0                                       0.000000        0.000000   \n",
            "0                                       0.000000        0.000000   \n",
            "0                                       0.000000        0.000000   \n",
            "0                                       0.000000        0.000000   \n",
            "\n",
            "NAMA                     VARID PUTRA PRATAMA  GAITSA NAZWA KANSA  \\\n",
            "NAMA                                                               \n",
            "MADINA HEDY ALIFANTI                0.994175            0.986081   \n",
            "MARIA DWI KURNIASIH                 0.995041            0.979214   \n",
            "ADINDA PUTRI RACHMAWATI             0.988439            0.990196   \n",
            "AQUINA SYABITA                      0.990581            0.988533   \n",
            "VARID PUTRA PRATAMA                 1.000000            0.994253   \n",
            "...                                      ...                 ...   \n",
            "0                                   0.000000            0.000000   \n",
            "0                                   0.000000            0.000000   \n",
            "0                                   0.000000            0.000000   \n",
            "0                                   0.000000            0.000000   \n",
            "0                                   0.000000            0.000000   \n",
            "\n",
            "NAMA                     Mohammad Alimun Hakim  HIZKIA SAMHAN REZAYOSHI  \\\n",
            "NAMA                                                                      \n",
            "MADINA HEDY ALIFANTI                  0.995315                 0.992593   \n",
            "MARIA DWI KURNIASIH                   0.982429                 0.994780   \n",
            "ADINDA PUTRI RACHMAWATI               0.983612                 0.989173   \n",
            "AQUINA SYABITA                        0.991779                 0.983276   \n",
            "VARID PUTRA PRATAMA                   0.987796                 0.995787   \n",
            "...                                        ...                      ...   \n",
            "0                                     0.000000                 0.000000   \n",
            "0                                     0.000000                 0.000000   \n",
            "0                                     0.000000                 0.000000   \n",
            "0                                     0.000000                 0.000000   \n",
            "0                                     0.000000                 0.000000   \n",
            "\n",
            "NAMA                     RAVEENA AYU DESEMBER SURYOPUTRI  \\\n",
            "NAMA                                                       \n",
            "MADINA HEDY ALIFANTI                            0.996820   \n",
            "MARIA DWI KURNIASIH                             0.990189   \n",
            "ADINDA PUTRI RACHMAWATI                         0.986797   \n",
            "AQUINA SYABITA                                  0.996624   \n",
            "VARID PUTRA PRATAMA                             0.997683   \n",
            "...                                                  ...   \n",
            "0                                               0.000000   \n",
            "0                                               0.000000   \n",
            "0                                               0.000000   \n",
            "0                                               0.000000   \n",
            "0                                               0.000000   \n",
            "\n",
            "NAMA                     Yohanes Olvin Jun Sole  ...    0    0    0    0    0  \\\n",
            "NAMA                                             ...                            \n",
            "MADINA HEDY ALIFANTI                   0.982712  ...  0.0  0.0  0.0  0.0  0.0   \n",
            "MARIA DWI KURNIASIH                    0.989091  ...  0.0  0.0  0.0  0.0  0.0   \n",
            "ADINDA PUTRI RACHMAWATI                0.991155  ...  0.0  0.0  0.0  0.0  0.0   \n",
            "AQUINA SYABITA                         0.970529  ...  0.0  0.0  0.0  0.0  0.0   \n",
            "VARID PUTRA PRATAMA                    0.991500  ...  0.0  0.0  0.0  0.0  0.0   \n",
            "...                                         ...  ...  ...  ...  ...  ...  ...   \n",
            "0                                      0.000000  ...  0.0  0.0  0.0  0.0  0.0   \n",
            "0                                      0.000000  ...  0.0  0.0  0.0  0.0  0.0   \n",
            "0                                      0.000000  ...  0.0  0.0  0.0  0.0  0.0   \n",
            "0                                      0.000000  ...  0.0  0.0  0.0  0.0  0.0   \n",
            "0                                      0.000000  ...  0.0  0.0  0.0  0.0  0.0   \n",
            "\n",
            "NAMA                       0    0    0    0    0  \n",
            "NAMA                                              \n",
            "MADINA HEDY ALIFANTI     0.0  0.0  0.0  0.0  0.0  \n",
            "MARIA DWI KURNIASIH      0.0  0.0  0.0  0.0  0.0  \n",
            "ADINDA PUTRI RACHMAWATI  0.0  0.0  0.0  0.0  0.0  \n",
            "AQUINA SYABITA           0.0  0.0  0.0  0.0  0.0  \n",
            "VARID PUTRA PRATAMA      0.0  0.0  0.0  0.0  0.0  \n",
            "...                      ...  ...  ...  ...  ...  \n",
            "0                        0.0  0.0  0.0  0.0  0.0  \n",
            "0                        0.0  0.0  0.0  0.0  0.0  \n",
            "0                        0.0  0.0  0.0  0.0  0.0  \n",
            "0                        0.0  0.0  0.0  0.0  0.0  \n",
            "0                        0.0  0.0  0.0  0.0  0.0  \n",
            "\n",
            "[999 rows x 999 columns]\n"
          ]
        }
      ]
    },
    {
      "cell_type": "markdown",
      "source": [
        "Cosine similarity menunjukkan bahwa hampir semua siswa memiliki pola jawaban yang sangat mirip, dengan tingkat kesamaan di atas 97%,berarti penilaian antar siswa cenderung homogen dan konsisten. Adanya nilai 0 bukan menunjukkan perbedaan, melainkan berasal dari data kosong yang ikut terbaca. Dengan demikian, dapat disimpulkan bahwa mayoritas siswa memiliki keseragaman dalam pola penilaian."
      ],
      "metadata": {
        "id": "aAbYFUmK1b_1"
      }
    },
    {
      "cell_type": "code",
      "source": [
        "#Cari Top 4 Mahasiswa berdasarkan total skor A–D\n",
        "df['TOTAL'] = df[['A','B','C','D']].sum(axis=1)\n",
        "top4 = df.nlargest(4, 'TOTAL')[['NPM','NAMA','TOTAL']]\n",
        "\n",
        "print(\"\\n=== Top 4 Mahasiswa ===\")\n",
        "print(top4)"
      ],
      "metadata": {
        "colab": {
          "base_uri": "https://localhost:8080/"
        },
        "id": "36lgrXUU1AMw",
        "outputId": "f23051c6-a518-42b5-cdbf-554f21139051"
      },
      "execution_count": null,
      "outputs": [
        {
          "output_type": "stream",
          "name": "stdout",
          "text": [
            "\n",
            "=== Top 4 Mahasiswa ===\n",
            "            NPM                     NAMA  TOTAL\n",
            "7  2.408301e+10  HIZKIA SAMHAN REZAYOSHI    3.9\n",
            "4  2.408301e+10      VARID PUTRA PRATAMA    3.4\n",
            "1  2.408301e+10      MARIA DWI KURNIASIH    3.3\n",
            "9  2.408301e+10   Yohanes Olvin Jun Sole    3.3\n"
          ]
        }
      ]
    }
  ]
}