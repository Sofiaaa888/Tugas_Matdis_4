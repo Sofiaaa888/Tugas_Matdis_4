{
 "cells": [
  {
   "cell_type": "markdown",
   "id": "b8ff8968-c973-43b4-b2aa-62d2d4efba61",
   "metadata": {},
   "source": [
    "Nama : Najwa Sofia \n",
    "NPM : 24083010115\n",
    "Kelas : Matematika Diskrit A"
   ]
  },
  {
   "cell_type": "markdown",
   "id": "4c1a7860-89e8-47b4-b4de-38d25166792a",
   "metadata": {},
   "source": [
    "# Nomor 3"
   ]
  },
  {
   "cell_type": "code",
   "execution_count": 8,
   "id": "0ef935dc-1a92-42e1-aa39-e87fc545dfd2",
   "metadata": {},
   "outputs": [
    {
     "name": "stdout",
     "output_type": "stream",
     "text": [
      "n=1 | (3) LHS = 1 | RHS = 1 -> Sama? True\n",
      "n=2 | (3) LHS = 5 | RHS = 5 -> Sama? True\n",
      "n=3 | (3) LHS = 14 | RHS = 14 -> Sama? True\n",
      "n=4 | (3) LHS = 30 | RHS = 30 -> Sama? True\n",
      "n=5 | (3) LHS = 55 | RHS = 55 -> Sama? True\n",
      "n=6 | (3) LHS = 91 | RHS = 91 -> Sama? True\n",
      "n=7 | (3) LHS = 140 | RHS = 140 -> Sama? True\n",
      "n=8 | (3) LHS = 204 | RHS = 204 -> Sama? True\n",
      "n=9 | (3) LHS = 285 | RHS = 285 -> Sama? True\n",
      "n=10 | (3) LHS = 385 | RHS = 385 -> Sama? True\n"
     ]
    }
   ],
   "source": [
    "def sisi_kiri3(n):\n",
    "    return sum(i**2 for i in range(1, n+1))\n",
    "\n",
    "def sisi_kanan3(n):\n",
    "    return n*(n+1)*(2*n+1)//6  # pakai // biar integer\n",
    "\n",
    "def cek3(n):\n",
    "    L = sisi_kiri3(n)\n",
    "    R = sisi_kanan3(n)\n",
    "    print(f\"n={n} | (3) LHS = {L} | RHS = {R} -> Sama? {L == R}\")\n",
    "\n",
    "for n in range(1, 11):\n",
    "    cek3(n)"
   ]
  },
  {
   "cell_type": "markdown",
   "id": "5f86cfbd-42ea-475f-b50d-10a7ade1a7ed",
   "metadata": {},
   "source": [
    "Berdasarkan hasil percobaan nilai n=1 sampai n=10, diperoleh bahwa nilah LHS (Hasil penjumlahan kuadrat bilabgan dari 1 sampai n) selalu sama dengan RHS (Hasil perhitungan menggunakan rumus n(n+1)(2n+1)/6. Kesamaan hasil ini menunjukkan bahwa rumus jumlah kuadrat bilangan bulat terbukti benar untuk setiap nilai n yang di uji. Dengan demikian dapat disimpulkan bahwa rumus tersebut valid dan dapat digunakan sebagai cara cepat menghitung jumlah kuadrat bilabgan tanpa perlu menjumlahkan satu satu"
   ]
  },
  {
   "cell_type": "markdown",
   "id": "9413e789-7532-4034-92db-17e69dc513cb",
   "metadata": {},
   "source": [
    "# Nomor 4"
   ]
  },
  {
   "cell_type": "code",
   "execution_count": 5,
   "id": "07cc1170-f24a-4e59-a519-667c5d800070",
   "metadata": {},
   "outputs": [
    {
     "name": "stdout",
     "output_type": "stream",
     "text": [
      "n=1 | (4) LHS = 1 | RHS = 1 -> LHS>=RHS? True\n",
      "n=2 | (4) LHS = 2 | RHS = 2 -> LHS>=RHS? True\n",
      "n=3 | (4) LHS = 6 | RHS = 4 -> LHS>=RHS? True\n",
      "n=4 | (4) LHS = 24 | RHS = 8 -> LHS>=RHS? True\n",
      "n=5 | (4) LHS = 120 | RHS = 16 -> LHS>=RHS? True\n",
      "n=6 | (4) LHS = 720 | RHS = 32 -> LHS>=RHS? True\n",
      "n=7 | (4) LHS = 5040 | RHS = 64 -> LHS>=RHS? True\n",
      "n=8 | (4) LHS = 40320 | RHS = 128 -> LHS>=RHS? True\n",
      "n=9 | (4) LHS = 362880 | RHS = 256 -> LHS>=RHS? True\n",
      "n=10 | (4) LHS = 3628800 | RHS = 512 -> LHS>=RHS? True\n"
     ]
    }
   ],
   "source": [
    "from math import factorial\n",
    "\n",
    "def sisi_kiri4(n):\n",
    "    return factorial(n)\n",
    "\n",
    "def sisi_kanan4(n):\n",
    "    return 2**(n-1)\n",
    "\n",
    "def cek4(n):\n",
    "    L = sisi_kiri4(n)\n",
    "    R = sisi_kanan4(n)\n",
    "    print(f\"n={n} | (4) LHS = {L} | RHS = {R} -> LHS>=RHS? {L >= R}\")\n",
    "\n",
    "for n in range(1, 11):\n",
    "    cek4(n)"
   ]
  },
  {
   "cell_type": "markdown",
   "id": "c93ae22b-8afa-49c0-aa7f-665c3ab8dbc5",
   "metadata": {},
   "source": [
    "Berdasarkan hasil percobaan dengan nilai n=1 sampai n=10, di peroleh bahwa LHS(n!) selalu lebih besar atau sama dengan nilai RHS (2^n-1). Pada awalnya ketika n=1 dan n=2 kedua nilai tersebut sama, tetapi mulai dari n=3 hingga seterusnya nilai faktorial meningkat jauh lebih cepat dibandingkan dengan perpangkatan dua. Hal ini membuktikan bahwa ketidaksamaan n! ≥ 2^n-1 benar setiap n ≥ 1"
   ]
  }
 ],
 "metadata": {
  "kernelspec": {
   "display_name": "Python 3 (ipykernel)",
   "language": "python",
   "name": "python3"
  },
  "language_info": {
   "codemirror_mode": {
    "name": "ipython",
    "version": 3
   },
   "file_extension": ".py",
   "mimetype": "text/x-python",
   "name": "python",
   "nbconvert_exporter": "python",
   "pygments_lexer": "ipython3",
   "version": "3.12.4"
  }
 },
 "nbformat": 4,
 "nbformat_minor": 5
}
